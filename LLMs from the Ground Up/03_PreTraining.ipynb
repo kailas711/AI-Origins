{
 "cells": [
  {
   "cell_type": "markdown",
   "id": "27c31e9d",
   "metadata": {},
   "source": [
    "# 4. Pretraining LLMs"
   ]
  },
  {
   "cell_type": "code",
   "execution_count": 1,
   "id": "7cb4a67d",
   "metadata": {},
   "outputs": [],
   "source": [
    "import tiktoken\n",
    "import torch\n",
    "import matplotlib \n",
    "import numpy"
   ]
  },
  {
   "cell_type": "markdown",
   "id": "14609fd1",
   "metadata": {},
   "source": [
    "### Using GPT to generate text\n",
    "\n",
    "- Initialize the GPT model.\n",
    "- We use dropout of 0.1 or above, but it is reletavely common to train LLM without dropout nowadays. \n",
    "- Modern LLMs don't use bias vectors in the `nn.Linear` layer for the QKV materices, hence we set `qkv_bias: False`.\n",
    "- We reduce the context length (context_length) of only 256 tokens to reduce the computational resource requirements for training the model, whereas the original 124 million parameter GPT-2 model used 1024 tokens.\n",
    "- Next, we use the generate_text_simple function from the previous chapter to generate text.\n",
    "- In addition, we define two convenience functions, `text_to_token_ids` and `token_ids_to_text`, for converting between token and text representations that we use throughout this chapter"
   ]
  },
  {
   "cell_type": "code",
   "execution_count": 2,
   "id": "05ae8b97",
   "metadata": {},
   "outputs": [],
   "source": [
    "import torch \n",
    "from supplementary import GPTModel\n",
    "\n",
    "GPT_CONFIG_124M = {\n",
    "    \"vocab_size\": 50257,   # Vocabulary size\n",
    "    \"context_length\": 256, # Shortened context length (orig: 1024)\n",
    "    \"emb_dim\": 768,        # Embedding dimension\n",
    "    \"n_heads\": 12,         # Number of attention heads\n",
    "    \"n_layers\": 12,        # Number of layers\n",
    "    \"drop_rate\": 0.1,      # Dropout rate\n",
    "    \"qkv_bias\": False      # Query-key-value bias\n",
    "}\n",
    "\n",
    "torch.manual_seed(123)\n",
    "model = GPTModel(GPT_CONFIG_124M)\n",
    "model.eval();  # Disable dropout during inference"
   ]
  },
  {
   "cell_type": "markdown",
   "id": "3b243956",
   "metadata": {},
   "source": [
    "<img src=\"./metadata/09.png\" alt=\" \" style=\"display: block; margin: 0 auto; width:800px; height:auto;\" />\n"
   ]
  },
  {
   "cell_type": "code",
   "execution_count": 3,
   "id": "0a27b4ad",
   "metadata": {},
   "outputs": [],
   "source": [
    "import tiktoken\n",
    "from supplementary import generate_text_simple\n",
    "\n",
    "def text_to_token(text, tokenizer):\n",
    "    encoded = tokenizer.encode(text, allowed_special={'<endoftext>'})\n",
    "    encoded_tensor = torch.tensor(encoded).unsqueeze(0) # add batch dimesion\n",
    "    return encoded_tensor\n",
    "\n",
    "def token_ids_to_text(token_ids, tokenizer):\n",
    "    flat = token_ids.squeeze(0) # Remove the added batch dim\n",
    "    return tokenizer.decode(flat.tolist())"
   ]
  },
  {
   "cell_type": "code",
   "execution_count": 4,
   "id": "7cb0632a",
   "metadata": {},
   "outputs": [
    {
     "name": "stdout",
     "output_type": "stream",
     "text": [
      "Output text \n",
      " every effor moves you (% LGBT Telegram Superman communities Observatoryelse Constant berelevision\n"
     ]
    }
   ],
   "source": [
    "start_context = \"every effor moves you\"\n",
    "tokenizer = tiktoken.get_encoding('gpt2')\n",
    "\n",
    "token_ids = generate_text_simple(\n",
    "    model=model,\n",
    "    idx=text_to_token(tokenizer=tokenizer, text=start_context),\n",
    "    max_new_tokens=10,\n",
    "    context_size=GPT_CONFIG_124M[\"context_length\"]\n",
    ")\n",
    "\n",
    "print(\"Output text \\n\", token_ids_to_text(token_ids, tokenizer))"
   ]
  },
  {
   "cell_type": "markdown",
   "id": "f54071d1",
   "metadata": {},
   "source": [
    "- ohhh..that's one way to generate text....\n",
    "- As we can see above, the model does not produce good text because it has not been trained yet\n",
    "- How do we measure or capture what \"good text\" is, in a numeric form, to track it during training?\n",
    "- The next subsection introduces metrics to calculate a loss metric for the generated outputs that we can use to measure the training progress\n",
    "\n",
    "### 2. Preparing the dataset loaders\n",
    " \n",
    "- We use a relatively small dataset for training the LLM (in fact, only one short story)"
   ]
  },
  {
   "cell_type": "code",
   "execution_count": null,
   "id": "02580624",
   "metadata": {},
   "outputs": [
    {
     "name": "stdout",
     "output_type": "stream",
     "text": [
      "I HAD always thought Jack Gisburn rather a cheap genius--though a good fellow enough--so it was no g\n"
     ]
    }
   ],
   "source": [
    "with open(\"datasets/the-verdict.txt\", \"r\", encoding=\"utf-8\") as file:\n",
    "    text_data = file.read()\n",
    "\n",
    "# First 100 characters\n",
    "print(text_data[:100])"
   ]
  },
  {
   "cell_type": "code",
   "execution_count": 7,
   "id": "9a317011",
   "metadata": {},
   "outputs": [
    {
     "name": "stdout",
     "output_type": "stream",
     "text": [
      "Characters: 20479\n",
      "Tokens: 5145\n"
     ]
    }
   ],
   "source": [
    "total_characters = len(text_data)\n",
    "total_tokens = len(tokenizer.encode(text_data))\n",
    "\n",
    "print(\"Characters:\", total_characters)\n",
    "print(\"Tokens:\", total_tokens)"
   ]
  },
  {
   "cell_type": "markdown",
   "id": "6f7fa2cf",
   "metadata": {},
   "source": [
    "- With 5,145 tokens, the text is very short for training an LLM, but again, it's for educational purposes (we will also load pretrained weights later)\n",
    "- For visualization purposes, the figure below assumes a max_length=6, but for the training loader, we set the max_length equal to the context length that the LLM supports\n",
    "\n",
    "<img src=\"./metadata/10.png\" alt=\" \" style=\"display: block; margin: 0 auto; width:900px; height:auto;\" />\n"
   ]
  },
  {
   "cell_type": "code",
   "execution_count": 11,
   "id": "a75a2879",
   "metadata": {},
   "outputs": [],
   "source": [
    "from sympy import true\n",
    "from supplementary import create_dataloader_v1\n",
    "\n",
    "# Train/Validation ratio\n",
    "train_ratio = 0.9\n",
    "split_idx = int(train_ratio*len(text_data))\n",
    "train_data = text_data[:split_idx]\n",
    "val_data = text_data[split_idx:]\n",
    "\n",
    "torch.manual_seed(123)\n",
    "\n",
    "train_loader = create_dataloader_v1(\n",
    "    train_data,\n",
    "    batch_size=2,\n",
    "    max_length=GPT_CONFIG_124M['context_length'],\n",
    "    stride=GPT_CONFIG_124M['context_length'],\n",
    "    drop_last=True,\n",
    "    shuffle=True,\n",
    "    num_workers=2\n",
    ")\n",
    "\n",
    "val_loader = create_dataloader_v1(\n",
    "    val_data,\n",
    "    batch_size=2,\n",
    "    max_length=GPT_CONFIG_124M['context_length'],\n",
    "    stride=GPT_CONFIG_124M['context_length'],\n",
    "    drop_last=True,\n",
    "    shuffle=True,\n",
    "    num_workers=2\n",
    ")"
   ]
  },
  {
   "cell_type": "markdown",
   "id": "7b525007",
   "metadata": {},
   "source": [
    "We use a relatively small batch size to reduce the computational resource demand, and because the dataset is very small to begin with"
   ]
  },
  {
   "cell_type": "code",
   "execution_count": 13,
   "id": "8267981a",
   "metadata": {},
   "outputs": [
    {
     "name": "stdout",
     "output_type": "stream",
     "text": [
      "Total train tokens :  4608\n",
      "Total val tokens :  512\n"
     ]
    }
   ],
   "source": [
    "train_tokens = 0\n",
    "for input_batch, target_batch in train_loader:\n",
    "    train_tokens+=input_batch.numel()\n",
    "\n",
    "val_tokens = 0\n",
    "for input_batch, target_batch in val_loader:\n",
    "    val_tokens+=input_batch.numel()\n",
    "\n",
    "print(\"Total train tokens : \", train_tokens)\n",
    "print(\"Total val tokens : \", val_tokens)"
   ]
  },
  {
   "cell_type": "markdown",
   "id": "22f23ce1",
   "metadata": {},
   "source": [
    "Next, let's calculate the initial loss before we start training"
   ]
  },
  {
   "cell_type": "code",
   "execution_count": 14,
   "id": "96468e3f",
   "metadata": {},
   "outputs": [
    {
     "name": "stdout",
     "output_type": "stream",
     "text": [
      "Training loss: 10.987583266364204\n",
      "Validation loss: 10.98110580444336\n"
     ]
    }
   ],
   "source": [
    "from supplementary import calc_loss_loader\n",
    "device = \"cuda\"\n",
    "model.to(device)\n",
    "\n",
    "torch.manual_seed(123) # reproducability because of shuffeling of data loader\n",
    "\n",
    "with torch.no_grad(): # disabling gradient tracking cause we're not trainig yet.\n",
    "    train_loss = calc_loss_loader(train_loader, model, device)\n",
    "    val_loss = calc_loss_loader(val_loader, model, device)\n",
    "\n",
    "print(\"Training loss:\", train_loss)\n",
    "print(\"Validation loss:\", val_loss)"
   ]
  },
  {
   "cell_type": "markdown",
   "id": "506668fb",
   "metadata": {},
   "source": [
    "### 3. Training an LLM\n",
    "\n",
    "<img src=\"./metadata/11.png\" alt=\" \" style=\"display: block; margin: 0 auto; width:500px; height:auto;\" />\n"
   ]
  },
  {
   "cell_type": "code",
   "execution_count": 15,
   "id": "37955319",
   "metadata": {},
   "outputs": [],
   "source": [
    "from supplementary import (\n",
    "    calc_loss_batch,\n",
    "    evaluate_model,\n",
    "    generate_and_print_sample\n",
    ")\n",
    "\n",
    "def train_model_simple(model, train_loader, val_loader, optimizer, device, num_epochs,\n",
    "                       eval_freq, eval_iter, start_context, tokenizer):\n",
    "    # Initialize lists to track losses and tokens seen\n",
    "    train_losses, val_losses, track_tokens_seen = [], [], []\n",
    "    tokens_seen, global_step = 0, -1\n",
    "\n",
    "    # Main training loop\n",
    "    for epoch in range(num_epochs):\n",
    "        model.train()  # Set model to training mode\n",
    "        \n",
    "        for input_batch, target_batch in train_loader:\n",
    "            optimizer.zero_grad() # Reset loss gradients from previous batch iteration\n",
    "            loss = calc_loss_batch(input_batch, target_batch, model, device)\n",
    "            loss.backward() # Calculate loss gradients\n",
    "            optimizer.step() # Update model weights using loss gradients\n",
    "            tokens_seen += input_batch.numel()\n",
    "            global_step += 1\n",
    "\n",
    "            # Optional evaluation step\n",
    "            if global_step % eval_freq == 0:\n",
    "                train_loss, val_loss = evaluate_model(\n",
    "                    model, train_loader, val_loader, device, eval_iter)\n",
    "                train_losses.append(train_loss)\n",
    "                val_losses.append(val_loss)\n",
    "                track_tokens_seen.append(tokens_seen)\n",
    "                print(f\"Ep {epoch+1} (Step {global_step:06d}): \"\n",
    "                      f\"Train loss {train_loss:.3f}, Val loss {val_loss:.3f}\")\n",
    "\n",
    "        # Print a sample text after each epoch\n",
    "        generate_and_print_sample(\n",
    "            model, tokenizer, device, start_context\n",
    "        )\n",
    "\n",
    "    return train_losses, val_losses, track_tokens_seen"
   ]
  },
  {
   "cell_type": "markdown",
   "id": "b3e54e5e",
   "metadata": {},
   "source": [
    "- Now, let's train the LLM using the training function defined above:"
   ]
  },
  {
   "cell_type": "code",
   "execution_count": 16,
   "id": "b62473ad",
   "metadata": {},
   "outputs": [
    {
     "name": "stdout",
     "output_type": "stream",
     "text": [
      "Ep 1 (Step 000000): Train loss 9.823, Val loss 9.928\n",
      "Ep 1 (Step 000005): Train loss 7.923, Val loss 8.336\n",
      "Every effort moves you,.                                                \n",
      "Ep 2 (Step 000010): Train loss 6.583, Val loss 7.038\n",
      "Ep 2 (Step 000015): Train loss 5.983, Val loss 6.593\n",
      "Every effort moves you, the, and, the, the, the, the, the. \", the,,, the, and, the, of the, the, the, the, the, the, the, and, the, and, the\n",
      "Ep 3 (Step 000020): Train loss 15.806, Val loss 15.890\n",
      "Ep 3 (Step 000025): Train loss 5.594, Val loss 6.463\n",
      "Every effort moves you. Gis. Gis. Gis. I had. G. I had, and--, and--. I had. G. I had. I had to the his--. I had. I had been. I had. I\n",
      "Ep 4 (Step 000030): Train loss 4.984, Val loss 6.325\n",
      "Ep 4 (Step 000035): Train loss 4.731, Val loss 6.247\n",
      "Every effort moves you, and \"I was a--I to the picture. \"--and, I had to the picture. \"I to the the, I had the picture, I had the picture, I had the picture. \"I had\n",
      "Ep 5 (Step 000040): Train loss 4.196, Val loss 6.257\n",
      "Every effort moves you know the first, and I was not to see the picture.                                     \n",
      "Ep 6 (Step 000045): Train loss 3.553, Val loss 6.210\n",
      "Ep 6 (Step 000050): Train loss 3.194, Val loss 6.181\n",
      "Every effort moves you know it was not that the picture--I was his pictures with a little of the fact of the fact--and here are the fact of the donkey, I had been to me.             \n",
      "Ep 7 (Step 000055): Train loss 2.772, Val loss 6.200\n",
      "Ep 7 (Step 000060): Train loss 2.131, Val loss 6.168\n",
      "Every effort moves you know,\" was not that my dear, the deep arm-chairs.                  He placed them at my elbow and I, the, and down the room, the his\n",
      "Ep 8 (Step 000065): Train loss 1.759, Val loss 6.182\n",
      "Ep 8 (Step 000070): Train loss 1.366, Val loss 6.165\n",
      "Every effort moves you?\" \"I didn't you know after him, and Mrs. \"--and by his pictures--and here are the cigars you like.\"  \"I had been his pictures--the him, I was \"There were days when I\n",
      "Ep 9 (Step 000075): Train loss 1.144, Val loss 6.282\n",
      "Ep 9 (Step 000080): Train loss 0.932, Val loss 6.305\n",
      "Every effort moves you?\" \"I that my hostess was \"interesting\": on that I was not till I was's past!  \"I didn't say, his pictures. \"I had again run over from the picture--because he was when I\n",
      "Ep 10 (Step 000085): Train loss 0.645, Val loss 6.392\n",
      "Every effort moves you?\"  \"Yes--quite insensible to the irony. She wanted him vindicated--and by me!\"  He laughed again, and threw back his head to look up at the sketch of the donkey. \"There were days when I\n"
     ]
    }
   ],
   "source": [
    "torch.manual_seed(123)\n",
    "model = GPTModel(GPT_CONFIG_124M)\n",
    "model.to(device)\n",
    "optimizer = torch.optim.AdamW(model.parameters(), lr=0.0004, weight_decay=0.1)\n",
    "\n",
    "num_epochs = 10\n",
    "train_losses, val_losses, tokens_seen = train_model_simple(\n",
    "    model, train_loader, val_loader, optimizer, device,\n",
    "    num_epochs=num_epochs, eval_freq=5, eval_iter=5,\n",
    "    start_context=\"Every effort moves you\", tokenizer=tokenizer\n",
    ")"
   ]
  },
  {
   "cell_type": "code",
   "execution_count": 17,
   "id": "452764cf",
   "metadata": {},
   "outputs": [],
   "source": [
    "torch.save(model.state_dict(), \"model.pth\")"
   ]
  },
  {
   "cell_type": "code",
   "execution_count": 18,
   "id": "599debe5",
   "metadata": {},
   "outputs": [
    {
     "data": {
      "image/png": "[encoded data removed]",
      "text/plain": [
       "<Figure size 500x300 with 2 Axes>"
      ]
     },
     "metadata": {},
     "output_type": "display_data"
    }
   ],
   "source": [
    "from supplementary import plot_losses\n",
    "\n",
    "\n",
    "epochs_tensor = torch.linspace(0, num_epochs, len(train_losses))\n",
    "plot_losses(epochs_tensor, tokens_seen, train_losses, val_losses)"
   ]
  },
  {
   "cell_type": "markdown",
   "id": "58bfd781",
   "metadata": {},
   "source": [
    "- Looking at the results above, we can see that the model starts out generating incomprehensible strings of words, whereas towards the end, it's able to produce grammatically more or less correct sentences\n",
    "\n",
    "- However, based on the training and validation set losses, we can see that the model starts overfitting\n",
    "\n",
    "- If we were to check a few passages it writes towards the end, we would find that they are contained in the training set verbatim -- it simply memorizes the training data\n",
    "\n",
    "- There are decoding strategies (not covered in this workshop) that can mitigate this memorization by a certain degree\n",
    "\n",
    "- Also note that the overfitting here occurs because we have a very, very small training set, and we iterate over it so many times\n",
    "\n",
    "\n",
    "**Load the trained model and generate text**"
   ]
  },
  {
   "cell_type": "code",
   "execution_count": 19,
   "id": "8bf48fb9",
   "metadata": {},
   "outputs": [],
   "source": [
    "import torch\n",
    "\n",
    "# Imports from a local file\n",
    "from supplementary import GPTModel\n",
    "\n",
    "\n",
    "model = GPTModel(GPT_CONFIG_124M)\n",
    "device = torch.device(\"cuda\" if torch.cuda.is_available() else \"cpu\")\n",
    "model.load_state_dict(torch.load(\"model.pth\", map_location=device))\n",
    "model.eval();"
   ]
  },
  {
   "cell_type": "code",
   "execution_count": 22,
   "id": "376d8916",
   "metadata": {},
   "outputs": [
    {
     "name": "stdout",
     "output_type": "stream",
     "text": [
      "Output text:\n",
      " Every effort moves you?\"\n",
      "\n",
      "\"Yes--quite insensible to\n"
     ]
    }
   ],
   "source": [
    "from supplementary import text_to_token_ids\n",
    "\n",
    "start_context = \"Every effort moves you\"\n",
    "tokenizer = tiktoken.get_encoding(\"gpt2\")\n",
    "\n",
    "device = torch.device(\"cuda\" if torch.cuda.is_available() else \"cpu\")\n",
    "\n",
    "token_ids = generate_text_simple(\n",
    "    model=model.to(device),\n",
    "    idx=text_to_token_ids(start_context, tokenizer).to(device),\n",
    "    max_new_tokens=10,\n",
    "    context_size=GPT_CONFIG_124M[\"context_length\"]\n",
    ")\n",
    "\n",
    "print(\"Output text:\\n\", token_ids_to_text(token_ids, tokenizer))"
   ]
  }
 ],
 "metadata": {
  "kernelspec": {
   "display_name": "projects",
   "language": "python",
   "name": "python3"
  },
  "language_info": {
   "codemirror_mode": {
    "name": "ipython",
    "version": 3
   },
   "file_extension": ".py",
   "mimetype": "text/x-python",
   "name": "python",
   "nbconvert_exporter": "python",
   "pygments_lexer": "ipython3",
   "version": "3.10.0"
  }
 },
 "nbformat": 4,
 "nbformat_minor": 5
}
