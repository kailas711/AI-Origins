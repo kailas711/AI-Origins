{
 "cells": [
  {
   "cell_type": "markdown",
   "id": "1320947f",
   "metadata": {
    "vscode": {
     "languageId": "plaintext"
    }
   },
   "source": [
    "# Coding an LLM architecture\n",
    "\n",
    "- Models like GPT, Gemma, Phi, Mistral, Llama etc. generate words sequentially and are based on the decoder part of the original transformer architecture. Hence refered to as decoder-only LLMs.\n",
    "- Compared to conventional deep learning models, LLMs are larger, mainly due to their vast number of parameters, not the amount of code\n",
    "- In this notebook, we consider embedding and model sizes akin to a small GPT-2 mode. The smallest GPT-2 model (124 million parameters).\n",
    "- Models like Llama and others are very similar to this model, since they are all based on the same core concepts\n",
    "\n",
    "<img src=\"./metadata/05.png\" alt=\"tokenization example\" style=\"display: block; margin: 0 auto; width:600px; height:auto;\" />\n",
    "\n",
    "**The differrence between the architectures**\n",
    "**GPT vs Llama**\n",
    "\n",
    "<img src=\"./metadata/06.png\" alt=\"tokenization example\" style=\"display: block; margin: 0 auto; width:800px; height:auto;\" />\n"
   ]
  },
  {
   "cell_type": "code",
   "execution_count": 1,
   "id": "0313d3c1",
   "metadata": {},
   "outputs": [],
   "source": [
    "GPT_CONFIG_124M = {\n",
    "    \"vocab_size\": 50257,    # Vocabulary size\n",
    "    \"context_length\": 1024, # Context length\n",
    "    \"emb_dim\": 768,         # Embedding dimension\n",
    "    \"n_heads\": 12,          # Number of attention heads\n",
    "    \"n_layers\": 12,         # Number of layers\n",
    "    \"drop_rate\": 0.0,       # Dropout rate\n",
    "    \"qkv_bias\": False       # Query-Key-Value bias\n",
    "}"
   ]
  },
  {
   "cell_type": "markdown",
   "id": "38988890",
   "metadata": {},
   "source": [
    "### 1. Coding the GPT model\n",
    "\n",
    "- We are almost there: now let's plug in the transformer block into the architecture we coded at the very beginning of this notebook so that we obtain a useable GPT architecture\n",
    "- Note that the transformer block is repeated multiple times; in the case of the smallest 124M GPT-2 model, we repeat it 12 times\n",
    "\n",
    "<img src=\"./metadata/07.png\" alt=\" \" style=\"display: block; margin: 0 auto; width:700px; height:auto;\" />"
   ]
  },
  {
   "cell_type": "code",
   "execution_count": 10,
   "id": "29214c99",
   "metadata": {},
   "outputs": [],
   "source": [
    "import torch\n",
    "import torch.nn as nn \n",
    "from supplementary import TransformerBlock, LayerNorm\n",
    "\n",
    "class GPTModel(nn.Module):\n",
    "    def __init__(self, cfg):\n",
    "        super().__init__()\n",
    "        self.tok_emb = nn.Embedding(cfg['vocab_size'], cfg['emb_dim'])\n",
    "        self.pos_emb = nn.Embedding(cfg['context_length'], cfg['emb_dim'])\n",
    "        self.drop_emb = nn.Dropout(cfg['drop_rate'])\n",
    "\n",
    "        # Transformer blocks\n",
    "        self.trf_blocks = nn.Sequential(*[TransformerBlock(cfg) for _ in range(cfg['n_layers'])])\n",
    "\n",
    "        self.final_norm = LayerNorm(cfg['emb_dim'])\n",
    "        self.out_head = nn.Linear(\n",
    "            cfg['emb_dim'], cfg['vocab_size'], bias=False\n",
    "        )\n",
    "    def forward(self, in_idx):\n",
    "        batch_size, seq_len = in_idx.shape\n",
    "        tok_embds = self.tok_emb(in_idx)\n",
    "        pos_embds = self.pos_emb(torch.arange(seq_len, device=in_idx.device))\n",
    "        x = tok_embds+pos_embds # Shape [batch_size, num_tokens, emb_size]\n",
    "\n",
    "        # we pass x into dropout, transformer blocks and then final norm layer \n",
    "        # This passthrough is what we see in the image above of GPT\n",
    "        \n",
    "        x = self.drop_emb(x) # Dropout\n",
    "        x = self.trf_blocks(x) # The transformer blocks\n",
    "        x = self.final_norm(x) # The final norm layer\n",
    "        logits = self.out_head(x) # Logits ( later softmax wil be applied on this )\n",
    "        return logits"
   ]
  },
  {
   "cell_type": "markdown",
   "id": "f77bb04c",
   "metadata": {},
   "source": [
    "Using the configuration of the 124M parameter model, we can now instantiate this GPT model with random initial weights as follows:"
   ]
  },
  {
   "cell_type": "code",
   "execution_count": 11,
   "id": "bee074ae",
   "metadata": {},
   "outputs": [
    {
     "name": "stdout",
     "output_type": "stream",
     "text": [
      "tensor([[ 6109,  3626,  6100,   345],\n",
      "        [16833,   820,  6622,   257]])\n"
     ]
    }
   ],
   "source": [
    "import torch\n",
    "import tiktoken\n",
    "\n",
    "tokenizer = tiktoken.get_encoding(\"gpt2\")\n",
    "\n",
    "batch = []\n",
    "\n",
    "txt1 = \"Every effort moves you\"\n",
    "txt2 = \"everyday holds a\"\n",
    "\n",
    "batch.append(torch.tensor(tokenizer.encode(txt1)))\n",
    "batch.append(torch.tensor(tokenizer.encode(txt2)))\n",
    "\n",
    "# converting batch into tensor so that it can be passed into model as input\n",
    "batch = torch.stack(batch, dim=0)\n",
    "print(batch)"
   ]
  },
  {
   "cell_type": "markdown",
   "id": "99bc9cb3",
   "metadata": {},
   "source": [
    "**Initilize the GPT-2 model**"
   ]
  },
  {
   "cell_type": "code",
   "execution_count": 13,
   "id": "8bb891da",
   "metadata": {},
   "outputs": [
    {
     "name": "stdout",
     "output_type": "stream",
     "text": [
      "Input batch:\n",
      " tensor([[ 6109,  3626,  6100,   345],\n",
      "        [16833,   820,  6622,   257]])\n",
      "\n",
      "Output shape: torch.Size([2, 4, 50257])\n",
      "tensor([[[ 0.0642,  0.2044, -0.1695,  ...,  0.1789,  0.2192, -0.5815],\n",
      "         [ 0.3774, -0.4255, -0.6587,  ..., -0.2505,  0.4655, -0.2576],\n",
      "         [ 0.8900, -0.1377,  0.1475,  ...,  0.1777, -0.1202, -0.1890],\n",
      "         [-0.9728,  0.0973, -0.2542,  ...,  1.1035,  0.3764, -0.5901]],\n",
      "\n",
      "        [[-0.0755, -0.5548,  0.3469,  ...,  0.1516,  0.5015, -1.1592],\n",
      "         [-0.0472, -0.0415,  0.5132,  ..., -0.1308,  0.1974,  0.1685],\n",
      "         [ 0.8582,  0.8072,  0.0093,  ...,  0.8838,  0.1597, -0.1031],\n",
      "         [-0.0436,  0.0515,  0.5518,  ...,  1.1580, -0.2668,  0.0348]]],\n",
      "       grad_fn=<UnsafeViewBackward0>)\n"
     ]
    }
   ],
   "source": [
    "torch.manual_seed(123)\n",
    "model = GPTModel(GPT_CONFIG_124M)\n",
    "\n",
    "#Output\n",
    "out = model(batch)\n",
    "print(\"Input batch:\\n\", batch)\n",
    "print(\"\\nOutput shape:\", out.shape)\n",
    "print(out)"
   ]
  },
  {
   "cell_type": "markdown",
   "id": "da654a52",
   "metadata": {},
   "source": [
    "### 2. Generating text\n",
    "\n",
    "- The following `generate_simple_text` function implements greedy decoding, which is a simple and fast method to generate text\n",
    "- In greedy decoding, at each step, the model chooses the word (or token) with the highest probability as its next output (the highest logit - corresponds to the highest probability, so we technically wouldn't even have to compute the softmax function explicitly)\n",
    "- The figure below depicts how the GPT model, given an input context, generates the next word token.\n",
    "\n",
    "<img src=\"./metadata/08.png\" alt=\" \" style=\"display: block; margin: 0 auto; width:900px; height:auto;\" />"
   ]
  },
  {
   "cell_type": "code",
   "execution_count": 29,
   "id": "788474bd",
   "metadata": {},
   "outputs": [],
   "source": [
    "#  implements an iterative process, where it creates one token at a time\n",
    "\n",
    "def generate_simple_text(model, idx, context_size,max_new_tokens=6):\n",
    "    # idx is (batch, n_tokens) array of indices in the current context\n",
    "    for _ in range(max_new_tokens):\n",
    "        # Crop current context if it exceeds the supported context size, crop the last part\n",
    "        # E.g., if LLM supports only 5 tokens, and the context size is 10.\n",
    "        # then only the last 5 tokens are used as context.\n",
    "\n",
    "        idx_cond = idx[:, -context_size:]\n",
    "\n",
    "        # Get the predictions\n",
    "        with torch.no_grad():\n",
    "            logits = model(idx_cond)\n",
    "\n",
    "        # Focus only on the last time step (batch, n_tokens, vocab_size) becomes (batch, vocab_size)\n",
    "        logits = logits[:, -1, :] \n",
    "\n",
    "        # Apply softmax to get probabilities\n",
    "        probas = torch.softmax(logits, dim=-1)  # (batch, vocab_size)\n",
    "\n",
    "        # Get the idx of the vocab entry with the highest probability value\n",
    "        idx_next = torch.argmax(probas, dim=-1, keepdim=True)  # (batch, 1)\n",
    "\n",
    "        # Append sampled index to the running sequence\n",
    "        idx = torch.cat((idx, idx_next), dim=1)  # (batch, n_tokens+1)\n",
    "\n",
    "    return idx"
   ]
  },
  {
   "cell_type": "markdown",
   "id": "00bf1fcd",
   "metadata": {},
   "source": [
    "### 3. Generate sample text"
   ]
  },
  {
   "cell_type": "code",
   "execution_count": 30,
   "id": "e63cf81d",
   "metadata": {},
   "outputs": [],
   "source": [
    "model.eval();  # disable dropout"
   ]
  },
  {
   "cell_type": "code",
   "execution_count": 31,
   "id": "52981dfb",
   "metadata": {},
   "outputs": [
    {
     "name": "stdout",
     "output_type": "stream",
     "text": [
      "encoded: [15496, 11, 314, 716]\n",
      "encoded_tensor.shape: torch.Size([1, 4])\n"
     ]
    }
   ],
   "source": [
    "start_context = \"Hello, I am\"\n",
    "\n",
    "encoded = tokenizer.encode(start_context)\n",
    "print(\"encoded:\", encoded)\n",
    "\n",
    "encoded_tensor = torch.tensor(encoded).unsqueeze(0)\n",
    "print(\"encoded_tensor.shape:\", encoded_tensor.shape)"
   ]
  },
  {
   "cell_type": "code",
   "execution_count": 32,
   "id": "26e2860f",
   "metadata": {},
   "outputs": [
    {
     "name": "stdout",
     "output_type": "stream",
     "text": [
      "Output: tensor([[15496,    11,   314,   716, 27018, 24086, 47843, 30961, 42348,  7267]])\n",
      "Output length: 10\n"
     ]
    }
   ],
   "source": [
    "out = generate_simple_text(\n",
    "    model=model,\n",
    "    idx=encoded_tensor, \n",
    "    max_new_tokens=6, \n",
    "    context_size=GPT_CONFIG_124M[\"context_length\"]\n",
    ")\n",
    "\n",
    "print(\"Output:\", out)\n",
    "print(\"Output length:\", len(out[0]))"
   ]
  },
  {
   "cell_type": "code",
   "execution_count": 33,
   "id": "7d9783c4",
   "metadata": {},
   "outputs": [
    {
     "name": "stdout",
     "output_type": "stream",
     "text": [
      "Hello, I am Featureiman Byeswickattribute argue\n"
     ]
    }
   ],
   "source": [
    "decoded_text = tokenizer.decode(out.squeeze(0).tolist())\n",
    "print(decoded_text)"
   ]
  },
  {
   "cell_type": "code",
   "execution_count": null,
   "id": "c1a17aaa",
   "metadata": {},
   "outputs": [],
   "source": []
  }
 ],
 "metadata": {
  "kernelspec": {
   "display_name": "projects",
   "language": "python",
   "name": "python3"
  },
  "language_info": {
   "codemirror_mode": {
    "name": "ipython",
    "version": 3
   },
   "file_extension": ".py",
   "mimetype": "text/x-python",
   "name": "python",
   "nbconvert_exporter": "python",
   "pygments_lexer": "ipython3",
   "version": "3.10.0"
  }
 },
 "nbformat": 4,
 "nbformat_minor": 5
}
