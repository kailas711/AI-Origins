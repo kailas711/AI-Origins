{
  "nbformat": 4,
  "nbformat_minor": 0,
  "metadata": {
    "colab": {
      "provenance": [],
      "toc_visible": true,
      "authorship_tag": "ABX9TyP1e/bkyE6ZPnUMwKeh0/Ar",
      "include_colab_link": true
    },
    "kernelspec": {
      "name": "python3",
      "display_name": "Python 3"
    },
    "language_info": {
      "name": "python"
    }
  },
  "cells": [
    {
      "cell_type": "markdown",
      "metadata": {
        "id": "view-in-github",
        "colab_type": "text"
      },
      "source": [
        "<a href=\"https://colab.research.google.com/github/kailas711/AI-Origins/blob/main/PyTorch_Revision.ipynb\" target=\"_parent\"><img src=\"https://colab.research.google.com/assets/colab-badge.svg\" alt=\"Open In Colab\"/></a>"
      ]
    },
    {
      "cell_type": "markdown",
      "source": [
        "**Scalars, vectors, matrices, and tensors**"
      ],
      "metadata": {
        "id": "WE20ha5JOJuR"
      }
    },
    {
      "cell_type": "code",
      "source": [
        "import torch\n",
        "print('The torch version : ',torch.__version__);\n",
        "print('Is cuda available : ', torch.cuda.is_available())\n"
      ],
      "metadata": {
        "colab": {
          "base_uri": "https://localhost:8080/"
        },
        "id": "r85PbxDMOs5g",
        "outputId": "142a6a99-c51d-4127-b5c8-e286b0df02eb"
      },
      "execution_count": null,
      "outputs": [
        {
          "output_type": "stream",
          "name": "stdout",
          "text": [
            "The torch version :  2.8.0+cu126\n",
            "Is cuda available :  False\n"
          ]
        }
      ]
    },
    {
      "cell_type": "code",
      "execution_count": null,
      "metadata": {
        "id": "sw7iqqQotei0",
        "colab": {
          "base_uri": "https://localhost:8080/"
        },
        "outputId": "aabf0d46-a1eb-4b67-8d32-519b40e45f72"
      },
      "outputs": [
        {
          "output_type": "stream",
          "name": "stdout",
          "text": [
            "Tensor dtype : torch.int64\n",
            "Float Tensor dtype : torch.float32\n"
          ]
        }
      ],
      "source": [
        "import torch\n",
        "\n",
        "# Create a 0d tensor\n",
        "tensor0d = torch.tensor([1,2,3,4,5])\n",
        "\n",
        "# A 1d tensor\n",
        "tensor1d = torch.tensor([[1,2,3,4,5], [1,2,3,4,5]])\n",
        "\n",
        "# A multi-d tensor\n",
        "tensor_multid = torch.tensor([[1,2,3,4,5],[1,2,3,4,5],[1,2,3,4,5]])\n",
        "\n",
        "#dtype of tensor\n",
        "print('Tensor dtype :' ,tensor0d.dtype)\n",
        "\n",
        "#Create a tensor from float\n",
        "float_tensor = torch.tensor([1.2,2.3,3.4,4.5])\n",
        "\n",
        "print('Float Tensor dtype :', float_tensor.dtype)"
      ]
    },
    {
      "cell_type": "code",
      "source": [],
      "metadata": {
        "id": "ZdMj25ArOq1R"
      },
      "execution_count": null,
      "outputs": []
    },
    {
      "cell_type": "markdown",
      "source": [
        "**Common pytorch tensor operations**"
      ],
      "metadata": {
        "id": "-FXcPehgf7Mj"
      }
    },
    {
      "cell_type": "code",
      "source": [
        "import torch\n",
        "\n",
        "tensor2d = torch.tensor([[1, 2, 3],\n",
        "                         [4, 5, 6]])\n",
        "\n",
        "# Tensor has 2 rows and 3 columns\n",
        "print(tensor2d.shape)"
      ],
      "metadata": {
        "colab": {
          "base_uri": "https://localhost:8080/"
        },
        "id": "MMHYoMSkf-y5",
        "outputId": "5ee5374d-4c97-4051-9b37-c7f9ccef3865"
      },
      "execution_count": null,
      "outputs": [
        {
          "output_type": "stream",
          "name": "stdout",
          "text": [
            "torch.Size([2, 3])\n"
          ]
        }
      ]
    },
    {
      "cell_type": "code",
      "source": [
        "# Reshaping the tensor\n",
        "tensor2d.reshape(3,2)\n",
        "\n",
        "# can do the same with .view()\n",
        "tensor2d.view(2,3)\n",
        "\n",
        "# Transpose of tensor\n",
        "tensor2d.T"
      ],
      "metadata": {
        "colab": {
          "base_uri": "https://localhost:8080/"
        },
        "id": "x7aDDjGahSGT",
        "outputId": "a0beb2ce-7126-4aee-8f7a-4ca428a33ef7"
      },
      "execution_count": null,
      "outputs": [
        {
          "output_type": "execute_result",
          "data": {
            "text/plain": [
              "tensor([[1, 4],\n",
              "        [2, 5],\n",
              "        [3, 6]])"
            ]
          },
          "metadata": {},
          "execution_count": 7
        }
      ]
    },
    {
      "cell_type": "code",
      "source": [
        "# Matrix multiplying\n",
        "tensor2d @ tensor2d.T"
      ],
      "metadata": {
        "colab": {
          "base_uri": "https://localhost:8080/"
        },
        "id": "byhgdOkIhs_E",
        "outputId": "f3ce9e6c-2bc7-4cdd-f653-29b943e01e50"
      },
      "execution_count": null,
      "outputs": [
        {
          "output_type": "execute_result",
          "data": {
            "text/plain": [
              "tensor([[14, 32],\n",
              "        [32, 77]])"
            ]
          },
          "metadata": {},
          "execution_count": 10
        }
      ]
    }
  ]
}