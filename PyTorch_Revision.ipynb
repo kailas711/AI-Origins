{
  "nbformat": 4,
  "nbformat_minor": 0,
  "metadata": {
    "colab": {
      "provenance": [],
      "authorship_tag": "ABX9TyO1wn2EpdFbS3ntX5VLwsdt"
    },
    "kernelspec": {
      "name": "python3",
      "display_name": "Python 3"
    },
    "language_info": {
      "name": "python"
    }
  },
  "cells": [
    {
      "cell_type": "markdown",
      "source": [
        "**Scalars, vectors, matrices, and tensors**"
      ],
      "metadata": {
        "id": "WE20ha5JOJuR"
      }
    },
    {
      "cell_type": "code",
      "source": [
        "import torch\n",
        "print('The torch version : ',torch.__version__);\n",
        "print('Is cuda available : ', torch.cuda.is_available())\n"
      ],
      "metadata": {
        "colab": {
          "base_uri": "https://localhost:8080/"
        },
        "id": "r85PbxDMOs5g",
        "outputId": "142a6a99-c51d-4127-b5c8-e286b0df02eb"
      },
      "execution_count": null,
      "outputs": [
        {
          "output_type": "stream",
          "name": "stdout",
          "text": [
            "The torch version :  2.8.0+cu126\n",
            "Is cuda available :  False\n"
          ]
        }
      ]
    },
    {
      "cell_type": "code",
      "execution_count": null,
      "metadata": {
        "id": "sw7iqqQotei0",
        "colab": {
          "base_uri": "https://localhost:8080/"
        },
        "outputId": "aabf0d46-a1eb-4b67-8d32-519b40e45f72"
      },
      "outputs": [
        {
          "output_type": "stream",
          "name": "stdout",
          "text": [
            "Tensor dtype : torch.int64\n",
            "Float Tensor dtype : torch.float32\n"
          ]
        }
      ],
      "source": [
        "import torch\n",
        "\n",
        "# Create a 0d tensor\n",
        "tensor0d = torch.tensor([1,2,3,4,5])\n",
        "\n",
        "# A 1d tensor\n",
        "tensor1d = torch.tensor([[1,2,3,4,5], [1,2,3,4,5]])\n",
        "\n",
        "# A multi-d tensor\n",
        "tensor_multid = torch.tensor([[1,2,3,4,5],[1,2,3,4,5],[1,2,3,4,5]])\n",
        "\n",
        "#dtype of tensor\n",
        "print('Tensor dtype :' ,tensor0d.dtype)\n",
        "\n",
        "#Create a tensor from float\n",
        "float_tensor = torch.tensor([1.2,2.3,3.4,4.5])\n",
        "\n",
        "print('Float Tensor dtype :', float_tensor.dtype)"
      ]
    },
    {
      "cell_type": "code",
      "source": [],
      "metadata": {
        "id": "ZdMj25ArOq1R"
      },
      "execution_count": null,
      "outputs": []
    }
  ]
}